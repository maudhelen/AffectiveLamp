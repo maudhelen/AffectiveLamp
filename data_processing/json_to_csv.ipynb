{
 "cells": [
  {
   "cell_type": "code",
   "execution_count": 2,
   "metadata": {},
   "outputs": [],
   "source": [
    "import json\n",
    "import pandas as pd\n",
    "import os\n",
    "from datetime import datetime, timezone\n"
   ]
  },
  {
   "cell_type": "code",
   "execution_count": 3,
   "metadata": {},
   "outputs": [],
   "source": [
    "DATA_DIR = \"../data/\"\n",
    "garmin_file = os.path.join(DATA_DIR, \"garmin_health_data.json\")\n",
    "csv_filename = os.path.join(DATA_DIR, \"garmin_data.csv\")"
   ]
  },
  {
   "cell_type": "code",
   "execution_count": 4,
   "metadata": {},
   "outputs": [
    {
     "name": "stdout",
     "output_type": "stream",
     "text": [
      "../data/garmin_health_data.json\n"
     ]
    }
   ],
   "source": [
    "print(garmin_file)"
   ]
  },
  {
   "cell_type": "code",
   "execution_count": 5,
   "metadata": {},
   "outputs": [
    {
     "name": "stdout",
     "output_type": "stream",
     "text": [
      "✅ Loaded Garmin health data\n"
     ]
    }
   ],
   "source": [
    "with open(garmin_file, \"r\") as f:\n",
    "    garmin_data = json.load(f)\n",
    "print(\"✅ Loaded Garmin health data\")"
   ]
  },
  {
   "cell_type": "code",
   "execution_count": 6,
   "metadata": {},
   "outputs": [
    {
     "name": "stdout",
     "output_type": "stream",
     "text": [
      "✅ Processed Garmin health data\n"
     ]
    }
   ],
   "source": [
    "processed_data = []\n",
    "\n",
    "# Iterate through Garmin data (by date)\n",
    "for date, health in garmin_data.items():\n",
    "    # Safely get heart rate values\n",
    "    heart_rate_values = health.get(\"heart_rate\", [])\n",
    "    if not heart_rate_values:\n",
    "        continue  # Skip days with no heart rate data\n",
    "\n",
    "    # Convert heart rate timestamps to UTC\n",
    "    hr_data = {\n",
    "        datetime.fromtimestamp(ts / 1000, tz=timezone.utc).strftime(\"%Y-%m-%dT%H:%M:%SZ\"): hr\n",
    "        for ts, hr in heart_rate_values\n",
    "    }\n",
    "\n",
    "    # Helper function for extracting time series data\n",
    "    def extract_time_series(data, key):\n",
    "        if not data or key not in data or data[key] is None:\n",
    "            return {}\n",
    "        return {\n",
    "            datetime.fromtimestamp(ts / 1000, tz=timezone.utc).strftime(\"%Y-%m-%dT%H:%M:%SZ\"): value\n",
    "            for ts, value in data[key]\n",
    "        }\n",
    "\n",
    "    # Extract all health metrics\n",
    "    stress_data = extract_time_series(health.get(\"stress\", {}), \"stressValuesArray\")\n",
    "    respiration_data = extract_time_series(health.get(\"respiration\", {}), \"respirationValuesArray\")\n",
    "    body_battery_data = extract_time_series(health.get(\"body_battery\", [{}])[0], \"bodyBatteryValuesArray\")\n",
    "    spo2_data = extract_time_series(health.get(\"spo2\"), \"spO2HourlyAverages\")\n",
    "\n",
    "    # Extract HRV readings\n",
    "    hrv_data = {\n",
    "        entry[\"readingTimeGMT\"]: entry[\"hrvValue\"]\n",
    "        for entry in health.get(\"hrvReadings\", [])\n",
    "    }\n",
    "\n",
    "    # Get sleep score\n",
    "    sleep_score = health.get(\"sleep_score\")\n",
    "\n",
    "    # Initialize last known values\n",
    "    last_stress = last_resp = last_body_battery = last_spo2 = last_hrv = None\n",
    "\n",
    "    # Merge data by timestamps\n",
    "    for timestamp, heart_rate in hr_data.items():\n",
    "        # Update last known values\n",
    "        last_stress = stress_data.get(timestamp, last_stress)\n",
    "        last_resp = respiration_data.get(timestamp, last_resp)\n",
    "        last_body_battery = body_battery_data.get(timestamp, last_body_battery)\n",
    "        last_spo2 = spo2_data.get(timestamp, last_spo2)\n",
    "        last_hrv = hrv_data.get(timestamp, last_hrv)\n",
    "\n",
    "        # Store processed data\n",
    "        processed_data.append({\n",
    "            \"timestamp\": timestamp,\n",
    "            \"heart_rate\": heart_rate,\n",
    "            \"stress\": last_stress,\n",
    "            \"respiration\": last_resp,\n",
    "            \"body_battery\": last_body_battery,\n",
    "            \"spo2\": last_spo2,\n",
    "            \"hrv\": last_hrv,\n",
    "            \"sleep_score\": sleep_score\n",
    "        })\n",
    "\n",
    "print(\"✅ Processed Garmin health data\")"
   ]
  },
  {
   "cell_type": "code",
   "execution_count": 7,
   "metadata": {},
   "outputs": [
    {
     "data": {
      "text/html": [
       "<div>\n",
       "<style scoped>\n",
       "    .dataframe tbody tr th:only-of-type {\n",
       "        vertical-align: middle;\n",
       "    }\n",
       "\n",
       "    .dataframe tbody tr th {\n",
       "        vertical-align: top;\n",
       "    }\n",
       "\n",
       "    .dataframe thead th {\n",
       "        text-align: right;\n",
       "    }\n",
       "</style>\n",
       "<table border=\"1\" class=\"dataframe\">\n",
       "  <thead>\n",
       "    <tr style=\"text-align: right;\">\n",
       "      <th></th>\n",
       "      <th>timestamp</th>\n",
       "      <th>heart_rate</th>\n",
       "      <th>stress</th>\n",
       "      <th>respiration</th>\n",
       "      <th>body_battery</th>\n",
       "      <th>spo2</th>\n",
       "      <th>hrv</th>\n",
       "      <th>sleep_score</th>\n",
       "    </tr>\n",
       "  </thead>\n",
       "  <tbody>\n",
       "    <tr>\n",
       "      <th>0</th>\n",
       "      <td>2025-04-01T22:00:00Z</td>\n",
       "      <td>62.0</td>\n",
       "      <td>31.0</td>\n",
       "      <td>NaN</td>\n",
       "      <td>NaN</td>\n",
       "      <td>94.0</td>\n",
       "      <td>None</td>\n",
       "      <td>50.0</td>\n",
       "    </tr>\n",
       "    <tr>\n",
       "      <th>1</th>\n",
       "      <td>2025-04-01T22:02:00Z</td>\n",
       "      <td>64.0</td>\n",
       "      <td>31.0</td>\n",
       "      <td>18.0</td>\n",
       "      <td>NaN</td>\n",
       "      <td>94.0</td>\n",
       "      <td>None</td>\n",
       "      <td>50.0</td>\n",
       "    </tr>\n",
       "    <tr>\n",
       "      <th>2</th>\n",
       "      <td>2025-04-01T22:04:00Z</td>\n",
       "      <td>63.0</td>\n",
       "      <td>31.0</td>\n",
       "      <td>17.0</td>\n",
       "      <td>NaN</td>\n",
       "      <td>94.0</td>\n",
       "      <td>None</td>\n",
       "      <td>50.0</td>\n",
       "    </tr>\n",
       "    <tr>\n",
       "      <th>3</th>\n",
       "      <td>2025-04-01T22:06:00Z</td>\n",
       "      <td>64.0</td>\n",
       "      <td>28.0</td>\n",
       "      <td>16.0</td>\n",
       "      <td>NaN</td>\n",
       "      <td>94.0</td>\n",
       "      <td>None</td>\n",
       "      <td>50.0</td>\n",
       "    </tr>\n",
       "    <tr>\n",
       "      <th>4</th>\n",
       "      <td>2025-04-01T22:08:00Z</td>\n",
       "      <td>65.0</td>\n",
       "      <td>28.0</td>\n",
       "      <td>17.0</td>\n",
       "      <td>NaN</td>\n",
       "      <td>94.0</td>\n",
       "      <td>None</td>\n",
       "      <td>50.0</td>\n",
       "    </tr>\n",
       "  </tbody>\n",
       "</table>\n",
       "</div>"
      ],
      "text/plain": [
       "              timestamp  heart_rate  stress  respiration  body_battery  spo2  \\\n",
       "0  2025-04-01T22:00:00Z        62.0    31.0          NaN           NaN  94.0   \n",
       "1  2025-04-01T22:02:00Z        64.0    31.0         18.0           NaN  94.0   \n",
       "2  2025-04-01T22:04:00Z        63.0    31.0         17.0           NaN  94.0   \n",
       "3  2025-04-01T22:06:00Z        64.0    28.0         16.0           NaN  94.0   \n",
       "4  2025-04-01T22:08:00Z        65.0    28.0         17.0           NaN  94.0   \n",
       "\n",
       "    hrv  sleep_score  \n",
       "0  None         50.0  \n",
       "1  None         50.0  \n",
       "2  None         50.0  \n",
       "3  None         50.0  \n",
       "4  None         50.0  "
      ]
     },
     "metadata": {},
     "output_type": "display_data"
    },
    {
     "name": "stdout",
     "output_type": "stream",
     "text": [
      "\n",
      "Dataset shape: (22005, 8)\n"
     ]
    }
   ],
   "source": [
    "df = pd.DataFrame(processed_data)\n",
    "display(df.head())\n",
    "print(\"\\nDataset shape:\", df.shape)"
   ]
  },
  {
   "cell_type": "code",
   "execution_count": 8,
   "metadata": {},
   "outputs": [
    {
     "name": "stdout",
     "output_type": "stream",
     "text": [
      "Summary statistics:\n"
     ]
    },
    {
     "data": {
      "text/html": [
       "<div>\n",
       "<style scoped>\n",
       "    .dataframe tbody tr th:only-of-type {\n",
       "        vertical-align: middle;\n",
       "    }\n",
       "\n",
       "    .dataframe tbody tr th {\n",
       "        vertical-align: top;\n",
       "    }\n",
       "\n",
       "    .dataframe thead th {\n",
       "        text-align: right;\n",
       "    }\n",
       "</style>\n",
       "<table border=\"1\" class=\"dataframe\">\n",
       "  <thead>\n",
       "    <tr style=\"text-align: right;\">\n",
       "      <th></th>\n",
       "      <th>heart_rate</th>\n",
       "      <th>stress</th>\n",
       "      <th>respiration</th>\n",
       "      <th>body_battery</th>\n",
       "      <th>spo2</th>\n",
       "      <th>sleep_score</th>\n",
       "    </tr>\n",
       "  </thead>\n",
       "  <tbody>\n",
       "    <tr>\n",
       "      <th>count</th>\n",
       "      <td>21961.000000</td>\n",
       "      <td>22001.000000</td>\n",
       "      <td>21959.000000</td>\n",
       "      <td>18941.000000</td>\n",
       "      <td>16301.000000</td>\n",
       "      <td>19030.000000</td>\n",
       "    </tr>\n",
       "    <tr>\n",
       "      <th>mean</th>\n",
       "      <td>71.203952</td>\n",
       "      <td>27.865233</td>\n",
       "      <td>12.344278</td>\n",
       "      <td>44.137955</td>\n",
       "      <td>94.260720</td>\n",
       "      <td>74.729427</td>\n",
       "    </tr>\n",
       "    <tr>\n",
       "      <th>std</th>\n",
       "      <td>18.846895</td>\n",
       "      <td>26.647508</td>\n",
       "      <td>6.101613</td>\n",
       "      <td>28.200988</td>\n",
       "      <td>2.323868</td>\n",
       "      <td>14.898444</td>\n",
       "    </tr>\n",
       "    <tr>\n",
       "      <th>min</th>\n",
       "      <td>40.000000</td>\n",
       "      <td>-2.000000</td>\n",
       "      <td>-2.000000</td>\n",
       "      <td>5.000000</td>\n",
       "      <td>85.000000</td>\n",
       "      <td>35.000000</td>\n",
       "    </tr>\n",
       "    <tr>\n",
       "      <th>25%</th>\n",
       "      <td>58.000000</td>\n",
       "      <td>6.000000</td>\n",
       "      <td>12.000000</td>\n",
       "      <td>20.000000</td>\n",
       "      <td>93.000000</td>\n",
       "      <td>63.000000</td>\n",
       "    </tr>\n",
       "    <tr>\n",
       "      <th>50%</th>\n",
       "      <td>67.000000</td>\n",
       "      <td>22.000000</td>\n",
       "      <td>14.000000</td>\n",
       "      <td>42.000000</td>\n",
       "      <td>94.000000</td>\n",
       "      <td>80.000000</td>\n",
       "    </tr>\n",
       "    <tr>\n",
       "      <th>75%</th>\n",
       "      <td>81.000000</td>\n",
       "      <td>43.000000</td>\n",
       "      <td>16.000000</td>\n",
       "      <td>62.000000</td>\n",
       "      <td>96.000000</td>\n",
       "      <td>86.000000</td>\n",
       "    </tr>\n",
       "    <tr>\n",
       "      <th>max</th>\n",
       "      <td>199.000000</td>\n",
       "      <td>99.000000</td>\n",
       "      <td>25.000000</td>\n",
       "      <td>100.000000</td>\n",
       "      <td>100.000000</td>\n",
       "      <td>95.000000</td>\n",
       "    </tr>\n",
       "  </tbody>\n",
       "</table>\n",
       "</div>"
      ],
      "text/plain": [
       "         heart_rate        stress   respiration  body_battery          spo2  \\\n",
       "count  21961.000000  22001.000000  21959.000000  18941.000000  16301.000000   \n",
       "mean      71.203952     27.865233     12.344278     44.137955     94.260720   \n",
       "std       18.846895     26.647508      6.101613     28.200988      2.323868   \n",
       "min       40.000000     -2.000000     -2.000000      5.000000     85.000000   \n",
       "25%       58.000000      6.000000     12.000000     20.000000     93.000000   \n",
       "50%       67.000000     22.000000     14.000000     42.000000     94.000000   \n",
       "75%       81.000000     43.000000     16.000000     62.000000     96.000000   \n",
       "max      199.000000     99.000000     25.000000    100.000000    100.000000   \n",
       "\n",
       "        sleep_score  \n",
       "count  19030.000000  \n",
       "mean      74.729427  \n",
       "std       14.898444  \n",
       "min       35.000000  \n",
       "25%       63.000000  \n",
       "50%       80.000000  \n",
       "75%       86.000000  \n",
       "max       95.000000  "
      ]
     },
     "metadata": {},
     "output_type": "display_data"
    },
    {
     "name": "stdout",
     "output_type": "stream",
     "text": [
      "\n",
      "Missing values:\n"
     ]
    },
    {
     "data": {
      "text/plain": [
       "timestamp           0\n",
       "heart_rate         44\n",
       "stress              4\n",
       "respiration        46\n",
       "body_battery     3064\n",
       "spo2             5704\n",
       "hrv             22005\n",
       "sleep_score      2975\n",
       "dtype: int64"
      ]
     },
     "metadata": {},
     "output_type": "display_data"
    }
   ],
   "source": [
    "print(\"Summary statistics:\")\n",
    "display(df.describe())\n",
    "\n",
    "print(\"\\nMissing values:\")\n",
    "display(df.isnull().sum())"
   ]
  },
  {
   "cell_type": "code",
   "execution_count": 9,
   "metadata": {},
   "outputs": [
    {
     "name": "stdout",
     "output_type": "stream",
     "text": [
      "✅ Garmin health data saved to ../data/garmin_data.csv\n"
     ]
    }
   ],
   "source": [
    "df.to_csv(csv_filename, index=False)\n",
    "print(f\"✅ Garmin health data saved to {csv_filename}\")"
   ]
  },
  {
   "cell_type": "code",
   "execution_count": null,
   "metadata": {},
   "outputs": [],
   "source": []
  }
 ],
 "metadata": {
  "kernelspec": {
   "display_name": ".venv",
   "language": "python",
   "name": "python3"
  },
  "language_info": {
   "codemirror_mode": {
    "name": "ipython",
    "version": 3
   },
   "file_extension": ".py",
   "mimetype": "text/x-python",
   "name": "python",
   "nbconvert_exporter": "python",
   "pygments_lexer": "ipython3",
   "version": "3.12.4"
  }
 },
 "nbformat": 4,
 "nbformat_minor": 2
}
