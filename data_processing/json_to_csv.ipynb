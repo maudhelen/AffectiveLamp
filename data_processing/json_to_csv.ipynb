{
 "cells": [
  {
   "cell_type": "code",
   "execution_count": 1,
   "metadata": {},
   "outputs": [],
   "source": [
    "# Cell 1: Import required libraries\n",
    "import json\n",
    "import pandas as pd\n",
    "import os\n",
    "from datetime import datetime, timezone\n"
   ]
  },
  {
   "cell_type": "code",
   "execution_count": 2,
   "metadata": {},
   "outputs": [],
   "source": [
    "# Cell 2: Define file paths\n",
    "DATA_DIR = \"../data/\"\n",
    "garmin_file = os.path.join(DATA_DIR, \"garmin_health_data.json\")\n",
    "csv_filename = os.path.join(DATA_DIR, \"garmin_health_data.csv\")"
   ]
  },
  {
   "cell_type": "code",
   "execution_count": 4,
   "metadata": {},
   "outputs": [
    {
     "name": "stdout",
     "output_type": "stream",
     "text": [
      "data/garmin_health_data.json\n"
     ]
    }
   ],
   "source": [
    "print(garmin_file)"
   ]
  },
  {
   "cell_type": "code",
   "execution_count": 3,
   "metadata": {},
   "outputs": [
    {
     "ename": "FileNotFoundError",
     "evalue": "[Errno 2] No such file or directory: 'data/garmin_health_data.json'",
     "output_type": "error",
     "traceback": [
      "\u001b[31m---------------------------------------------------------------------------\u001b[39m",
      "\u001b[31mFileNotFoundError\u001b[39m                         Traceback (most recent call last)",
      "\u001b[36mCell\u001b[39m\u001b[36m \u001b[39m\u001b[32mIn[3]\u001b[39m\u001b[32m, line 2\u001b[39m\n\u001b[32m      1\u001b[39m \u001b[38;5;66;03m# Cell 3: Load Garmin health data\u001b[39;00m\n\u001b[32m----> \u001b[39m\u001b[32m2\u001b[39m \u001b[38;5;28;01mwith\u001b[39;00m \u001b[38;5;28;43mopen\u001b[39;49m\u001b[43m(\u001b[49m\u001b[43mgarmin_file\u001b[49m\u001b[43m,\u001b[49m\u001b[43m \u001b[49m\u001b[33;43m\"\u001b[39;49m\u001b[33;43mr\u001b[39;49m\u001b[33;43m\"\u001b[39;49m\u001b[43m)\u001b[49m \u001b[38;5;28;01mas\u001b[39;00m f:\n\u001b[32m      3\u001b[39m     garmin_data = json.load(f)\n\u001b[32m      4\u001b[39m \u001b[38;5;28mprint\u001b[39m(\u001b[33m\"\u001b[39m\u001b[33m✅ Loaded Garmin health data\u001b[39m\u001b[33m\"\u001b[39m)\n",
      "\u001b[36mFile \u001b[39m\u001b[32m~/Desktop/AffectiveLamp/.venv/lib/python3.12/site-packages/IPython/core/interactiveshell.py:325\u001b[39m, in \u001b[36m_modified_open\u001b[39m\u001b[34m(file, *args, **kwargs)\u001b[39m\n\u001b[32m    318\u001b[39m \u001b[38;5;28;01mif\u001b[39;00m file \u001b[38;5;129;01min\u001b[39;00m {\u001b[32m0\u001b[39m, \u001b[32m1\u001b[39m, \u001b[32m2\u001b[39m}:\n\u001b[32m    319\u001b[39m     \u001b[38;5;28;01mraise\u001b[39;00m \u001b[38;5;167;01mValueError\u001b[39;00m(\n\u001b[32m    320\u001b[39m         \u001b[33mf\u001b[39m\u001b[33m\"\u001b[39m\u001b[33mIPython won\u001b[39m\u001b[33m'\u001b[39m\u001b[33mt let you open fd=\u001b[39m\u001b[38;5;132;01m{\u001b[39;00mfile\u001b[38;5;132;01m}\u001b[39;00m\u001b[33m by default \u001b[39m\u001b[33m\"\u001b[39m\n\u001b[32m    321\u001b[39m         \u001b[33m\"\u001b[39m\u001b[33mas it is likely to crash IPython. If you know what you are doing, \u001b[39m\u001b[33m\"\u001b[39m\n\u001b[32m    322\u001b[39m         \u001b[33m\"\u001b[39m\u001b[33myou can use builtins\u001b[39m\u001b[33m'\u001b[39m\u001b[33m open.\u001b[39m\u001b[33m\"\u001b[39m\n\u001b[32m    323\u001b[39m     )\n\u001b[32m--> \u001b[39m\u001b[32m325\u001b[39m \u001b[38;5;28;01mreturn\u001b[39;00m \u001b[43mio_open\u001b[49m\u001b[43m(\u001b[49m\u001b[43mfile\u001b[49m\u001b[43m,\u001b[49m\u001b[43m \u001b[49m\u001b[43m*\u001b[49m\u001b[43margs\u001b[49m\u001b[43m,\u001b[49m\u001b[43m \u001b[49m\u001b[43m*\u001b[49m\u001b[43m*\u001b[49m\u001b[43mkwargs\u001b[49m\u001b[43m)\u001b[49m\n",
      "\u001b[31mFileNotFoundError\u001b[39m: [Errno 2] No such file or directory: 'data/garmin_health_data.json'"
     ]
    }
   ],
   "source": [
    "# Cell 3: Load Garmin health data\n",
    "with open(garmin_file, \"r\") as f:\n",
    "    garmin_data = json.load(f)\n",
    "print(\"✅ Loaded Garmin health data\")"
   ]
  },
  {
   "cell_type": "code",
   "execution_count": null,
   "metadata": {},
   "outputs": [],
   "source": [
    "# Cell 4: Process Garmin data\n",
    "# List to store processed data\n",
    "processed_data = []\n",
    "\n",
    "# Iterate through Garmin data (by date)\n",
    "for date, health in garmin_data.items():\n",
    "    # Safely get heart rate values\n",
    "    heart_rate_values = health.get(\"heart_rate\", [])\n",
    "    if not heart_rate_values:\n",
    "        continue  # Skip days with no heart rate data\n",
    "\n",
    "    # Convert heart rate timestamps to UTC\n",
    "    hr_data = {\n",
    "        datetime.fromtimestamp(ts / 1000, tz=timezone.utc).strftime(\"%Y-%m-%dT%H:%M:%SZ\"): hr\n",
    "        for ts, hr in heart_rate_values\n",
    "    }\n",
    "\n",
    "    # Helper function for extracting time series data\n",
    "    def extract_time_series(data, key):\n",
    "        if not data or key not in data or data[key] is None:\n",
    "            return {}\n",
    "        return {\n",
    "            datetime.fromtimestamp(ts / 1000, tz=timezone.utc).strftime(\"%Y-%m-%dT%H:%M:%SZ\"): value\n",
    "            for ts, value in data[key]\n",
    "        }\n",
    "\n",
    "    # Extract all health metrics\n",
    "    stress_data = extract_time_series(health.get(\"stress\", {}), \"stressValuesArray\")\n",
    "    respiration_data = extract_time_series(health.get(\"respiration\", {}), \"respirationValuesArray\")\n",
    "    body_battery_data = extract_time_series(health.get(\"body_battery\", [{}])[0], \"bodyBatteryValuesArray\")\n",
    "    spo2_data = extract_time_series(health.get(\"spo2\"), \"spO2HourlyAverages\")\n",
    "\n",
    "    # Extract HRV readings\n",
    "    hrv_data = {\n",
    "        entry[\"readingTimeGMT\"]: entry[\"hrvValue\"]\n",
    "        for entry in health.get(\"hrvReadings\", [])\n",
    "    }\n",
    "\n",
    "    # Get sleep score\n",
    "    sleep_score = health.get(\"sleep_score\", \"No Data\")\n",
    "\n",
    "    # Initialize last known values\n",
    "    last_stress = last_resp = last_body_battery = last_spo2 = last_hrv = None\n",
    "\n",
    "    # Merge data by timestamps\n",
    "    for timestamp, heart_rate in hr_data.items():\n",
    "        # Update last known values\n",
    "        last_stress = stress_data.get(timestamp, last_stress)\n",
    "        last_resp = respiration_data.get(timestamp, last_resp)\n",
    "        last_body_battery = body_battery_data.get(timestamp, last_body_battery)\n",
    "        last_spo2 = spo2_data.get(timestamp, last_spo2)\n",
    "        last_hrv = hrv_data.get(timestamp, last_hrv)\n",
    "\n",
    "        # Store processed data\n",
    "        processed_data.append({\n",
    "            \"timestamp\": timestamp,\n",
    "            \"heart_rate\": heart_rate,\n",
    "            \"stress\": last_stress,\n",
    "            \"respiration\": last_resp,\n",
    "            \"body_battery\": last_body_battery,\n",
    "            \"spo2\": last_spo2,\n",
    "            \"hrv\": last_hrv,\n",
    "            \"sleep_score\": sleep_score\n",
    "        })\n",
    "\n",
    "print(\"✅ Processed Garmin health data\")"
   ]
  },
  {
   "cell_type": "code",
   "execution_count": null,
   "metadata": {},
   "outputs": [],
   "source": [
    "# Cell 5: Convert to DataFrame and display first few rows\n",
    "df = pd.DataFrame(processed_data)\n",
    "display(df.head())\n",
    "print(\"\\nDataset shape:\", df.shape)"
   ]
  },
  {
   "cell_type": "code",
   "execution_count": null,
   "metadata": {},
   "outputs": [],
   "source": [
    "# Cell 6: Basic data analysis\n",
    "print(\"Summary statistics:\")\n",
    "display(df.describe())\n",
    "\n",
    "print(\"\\nMissing values:\")\n",
    "display(df.isnull().sum())"
   ]
  },
  {
   "cell_type": "code",
   "execution_count": null,
   "metadata": {},
   "outputs": [],
   "source": [
    "# Cell 7: Save to CSV\n",
    "df.to_csv(csv_filename, index=False)\n",
    "print(f\"✅ Garmin health data saved to {csv_filename}\")"
   ]
  }
 ],
 "metadata": {
  "kernelspec": {
   "display_name": ".venv",
   "language": "python",
   "name": "python3"
  },
  "language_info": {
   "codemirror_mode": {
    "name": "ipython",
    "version": 3
   },
   "file_extension": ".py",
   "mimetype": "text/x-python",
   "name": "python",
   "nbconvert_exporter": "python",
   "pygments_lexer": "ipython3",
   "version": "3.12.4"
  }
 },
 "nbformat": 4,
 "nbformat_minor": 2
}
