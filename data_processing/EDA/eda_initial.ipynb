{
 "cells": [
  {
   "cell_type": "code",
   "execution_count": 1,
   "metadata": {},
   "outputs": [],
   "source": [
    "import pandas as pd"
   ]
  },
  {
   "cell_type": "code",
   "execution_count": 2,
   "metadata": {},
   "outputs": [
    {
     "data": {
      "text/html": [
       "<div>\n",
       "<style scoped>\n",
       "    .dataframe tbody tr th:only-of-type {\n",
       "        vertical-align: middle;\n",
       "    }\n",
       "\n",
       "    .dataframe tbody tr th {\n",
       "        vertical-align: top;\n",
       "    }\n",
       "\n",
       "    .dataframe thead th {\n",
       "        text-align: right;\n",
       "    }\n",
       "</style>\n",
       "<table border=\"1\" class=\"dataframe\">\n",
       "  <thead>\n",
       "    <tr style=\"text-align: right;\">\n",
       "      <th></th>\n",
       "      <th>timestamp</th>\n",
       "      <th>valence</th>\n",
       "      <th>arousal</th>\n",
       "      <th>emotion</th>\n",
       "      <th>heart_rate</th>\n",
       "      <th>stress</th>\n",
       "      <th>respiration</th>\n",
       "      <th>body_battery</th>\n",
       "      <th>spo2</th>\n",
       "      <th>sleep_score</th>\n",
       "      <th>hrv_avg</th>\n",
       "      <th>sleep_score_tier</th>\n",
       "      <th>time_of_day</th>\n",
       "    </tr>\n",
       "  </thead>\n",
       "  <tbody>\n",
       "    <tr>\n",
       "      <th>0</th>\n",
       "      <td>2025-02-24 17:32:00</td>\n",
       "      <td>0.89</td>\n",
       "      <td>0.54</td>\n",
       "      <td>Happy</td>\n",
       "      <td>54.0</td>\n",
       "      <td>10.0</td>\n",
       "      <td>15.0</td>\n",
       "      <td>45.0</td>\n",
       "      <td>95.0</td>\n",
       "      <td>89.0</td>\n",
       "      <td>106.0</td>\n",
       "      <td>Good</td>\n",
       "      <td>Afternoon</td>\n",
       "    </tr>\n",
       "    <tr>\n",
       "      <th>1</th>\n",
       "      <td>2025-02-24 18:12:00</td>\n",
       "      <td>0.99</td>\n",
       "      <td>0.50</td>\n",
       "      <td>Happy</td>\n",
       "      <td>73.0</td>\n",
       "      <td>22.0</td>\n",
       "      <td>11.0</td>\n",
       "      <td>45.0</td>\n",
       "      <td>95.0</td>\n",
       "      <td>89.0</td>\n",
       "      <td>106.0</td>\n",
       "      <td>Good</td>\n",
       "      <td>Afternoon</td>\n",
       "    </tr>\n",
       "    <tr>\n",
       "      <th>2</th>\n",
       "      <td>2025-02-24 19:04:00</td>\n",
       "      <td>0.98</td>\n",
       "      <td>0.55</td>\n",
       "      <td>Happy</td>\n",
       "      <td>81.0</td>\n",
       "      <td>-1.0</td>\n",
       "      <td>-1.0</td>\n",
       "      <td>45.0</td>\n",
       "      <td>94.0</td>\n",
       "      <td>89.0</td>\n",
       "      <td>106.0</td>\n",
       "      <td>Good</td>\n",
       "      <td>Evening</td>\n",
       "    </tr>\n",
       "    <tr>\n",
       "      <th>3</th>\n",
       "      <td>2025-02-25 12:12:00</td>\n",
       "      <td>0.03</td>\n",
       "      <td>-0.04</td>\n",
       "      <td>Neutral</td>\n",
       "      <td>74.0</td>\n",
       "      <td>-1.0</td>\n",
       "      <td>-1.0</td>\n",
       "      <td>100.0</td>\n",
       "      <td>96.0</td>\n",
       "      <td>88.0</td>\n",
       "      <td>87.0</td>\n",
       "      <td>Good</td>\n",
       "      <td>Morning</td>\n",
       "    </tr>\n",
       "    <tr>\n",
       "      <th>4</th>\n",
       "      <td>2025-02-25 12:36:00</td>\n",
       "      <td>-0.87</td>\n",
       "      <td>0.64</td>\n",
       "      <td>Angry</td>\n",
       "      <td>110.0</td>\n",
       "      <td>-2.0</td>\n",
       "      <td>-1.0</td>\n",
       "      <td>100.0</td>\n",
       "      <td>96.0</td>\n",
       "      <td>88.0</td>\n",
       "      <td>87.0</td>\n",
       "      <td>Good</td>\n",
       "      <td>Morning</td>\n",
       "    </tr>\n",
       "  </tbody>\n",
       "</table>\n",
       "</div>"
      ],
      "text/plain": [
       "             timestamp  valence  arousal  emotion  heart_rate  stress  \\\n",
       "0  2025-02-24 17:32:00     0.89     0.54    Happy        54.0    10.0   \n",
       "1  2025-02-24 18:12:00     0.99     0.50    Happy        73.0    22.0   \n",
       "2  2025-02-24 19:04:00     0.98     0.55    Happy        81.0    -1.0   \n",
       "3  2025-02-25 12:12:00     0.03    -0.04  Neutral        74.0    -1.0   \n",
       "4  2025-02-25 12:36:00    -0.87     0.64    Angry       110.0    -2.0   \n",
       "\n",
       "   respiration  body_battery  spo2  sleep_score  hrv_avg sleep_score_tier  \\\n",
       "0         15.0          45.0  95.0         89.0    106.0             Good   \n",
       "1         11.0          45.0  95.0         89.0    106.0             Good   \n",
       "2         -1.0          45.0  94.0         89.0    106.0             Good   \n",
       "3         -1.0         100.0  96.0         88.0     87.0             Good   \n",
       "4         -1.0         100.0  96.0         88.0     87.0             Good   \n",
       "\n",
       "  time_of_day  \n",
       "0   Afternoon  \n",
       "1   Afternoon  \n",
       "2     Evening  \n",
       "3     Morning  \n",
       "4     Morning  "
      ]
     },
     "execution_count": 2,
     "metadata": {},
     "output_type": "execute_result"
    }
   ],
   "source": [
    "# Import the data in cleaned_data.csv\n",
    "data = pd.read_csv('../../data/new/cleaned_data.csv')\n",
    "\n",
    "# Display the first few rows\n",
    "data.head()"
   ]
  },
  {
   "cell_type": "code",
   "execution_count": 3,
   "metadata": {},
   "outputs": [
    {
     "name": "stdout",
     "output_type": "stream",
     "text": [
      "78.26388888888889\n",
      "81.0\n"
     ]
    }
   ],
   "source": [
    "#print average and median of sleep_score\n",
    "print(data['sleep_score'].mean())\n",
    "print(data['sleep_score'].median())"
   ]
  },
  {
   "cell_type": "code",
   "execution_count": 7,
   "metadata": {},
   "outputs": [
    {
     "name": "stdout",
     "output_type": "stream",
     "text": [
      "time_of_day\n",
      "Afternoon    76\n",
      "Morning      36\n",
      "Evening      26\n",
      "Night         6\n",
      "Name: count, dtype: int64\n"
     ]
    }
   ],
   "source": [
    "#Count how many of the datarecords there are in each timeOfDay category\n",
    "timeOfDay_counts = data['time_of_day'].value_counts()\n",
    "print(timeOfDay_counts)\n"
   ]
  },
  {
   "cell_type": "code",
   "execution_count": null,
   "metadata": {},
   "outputs": [],
   "source": []
  }
 ],
 "metadata": {
  "kernelspec": {
   "display_name": ".venv",
   "language": "python",
   "name": "python3"
  },
  "language_info": {
   "codemirror_mode": {
    "name": "ipython",
    "version": 3
   },
   "file_extension": ".py",
   "mimetype": "text/x-python",
   "name": "python",
   "nbconvert_exporter": "python",
   "pygments_lexer": "ipython3",
   "version": "3.12.4"
  }
 },
 "nbformat": 4,
 "nbformat_minor": 2
}
