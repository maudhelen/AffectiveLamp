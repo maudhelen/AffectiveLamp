{
 "cells": [
  {
   "cell_type": "code",
   "execution_count": 3,
   "metadata": {},
   "outputs": [],
   "source": [
    "# Cell 1: Import libraries\n",
    "import pandas as pd\n",
    "import json\n",
    "from datetime import datetime, timedelta\n",
    "from health_data import fetch_garmin_health_data"
   ]
  },
  {
   "cell_type": "code",
   "execution_count": 4,
   "metadata": {},
   "outputs": [
    {
     "name": "stdout",
     "output_type": "stream",
     "text": [
      "Error loading app data: Error tokenizing data. C error: Expected 7 fields in line 19, saw 13\n",
      "\n"
     ]
    }
   ],
   "source": [
    "# Cell 2: Load app data\n",
    "# Read the app data from CSV\n",
    "try:\n",
    "    app_data = pd.read_csv('my-va-app/data/emotion_data.csv', \n",
    "                      names=['timestamp,valence,arousal,emotion,hue,saturation,brightness'])\n",
    "    print(\"Successfully loaded app data\")\n",
    "    display(app_data.head())\n",
    "    print(\"\\nApp data shape:\", app_data.shape)\n",
    "except Exception as e:\n",
    "    print(f\"Error loading app data: {e}\")\n",
    "    app_data = pd.DataFrame()"
   ]
  },
  {
   "cell_type": "code",
   "execution_count": null,
   "metadata": {},
   "outputs": [],
   "source": [
    "app_data.head()"
   ]
  },
  {
   "cell_type": "code",
   "execution_count": 2,
   "metadata": {},
   "outputs": [
    {
     "name": "stdout",
     "output_type": "stream",
     "text": [
      "Successfully loaded manual emotion data\n"
     ]
    },
    {
     "data": {
      "text/html": [
       "<div>\n",
       "<style scoped>\n",
       "    .dataframe tbody tr th:only-of-type {\n",
       "        vertical-align: middle;\n",
       "    }\n",
       "\n",
       "    .dataframe tbody tr th {\n",
       "        vertical-align: top;\n",
       "    }\n",
       "\n",
       "    .dataframe thead th {\n",
       "        text-align: right;\n",
       "    }\n",
       "</style>\n",
       "<table border=\"1\" class=\"dataframe\">\n",
       "  <thead>\n",
       "    <tr style=\"text-align: right;\">\n",
       "      <th></th>\n",
       "      <th>timestamp</th>\n",
       "      <th>emotion</th>\n",
       "    </tr>\n",
       "  </thead>\n",
       "  <tbody>\n",
       "    <tr>\n",
       "      <th>0</th>\n",
       "      <td>2025-02-24T19:05:00Z</td>\n",
       "      <td>Happy</td>\n",
       "    </tr>\n",
       "    <tr>\n",
       "      <th>1</th>\n",
       "      <td>2025-02-24T18:12:00Z</td>\n",
       "      <td>Happy</td>\n",
       "    </tr>\n",
       "    <tr>\n",
       "      <th>2</th>\n",
       "      <td>2025-02-24T17:32:00Z</td>\n",
       "      <td>Happy</td>\n",
       "    </tr>\n",
       "    <tr>\n",
       "      <th>3</th>\n",
       "      <td>2025-02-25T19:05:00Z</td>\n",
       "      <td>Excited</td>\n",
       "    </tr>\n",
       "    <tr>\n",
       "      <th>4</th>\n",
       "      <td>2025-02-25T16:53:00Z</td>\n",
       "      <td>Neutral</td>\n",
       "    </tr>\n",
       "  </tbody>\n",
       "</table>\n",
       "</div>"
      ],
      "text/plain": [
       "              timestamp  emotion\n",
       "0  2025-02-24T19:05:00Z    Happy\n",
       "1  2025-02-24T18:12:00Z    Happy\n",
       "2  2025-02-24T17:32:00Z    Happy\n",
       "3  2025-02-25T19:05:00Z  Excited\n",
       "4  2025-02-25T16:53:00Z  Neutral"
      ]
     },
     "metadata": {},
     "output_type": "display_data"
    },
    {
     "name": "stdout",
     "output_type": "stream",
     "text": [
      "\n",
      "Manual data shape: (32, 2)\n"
     ]
    }
   ],
   "source": [
    "# Cell 3: Load manual emotion data\n",
    "# Read manual emotion data from JSON\n",
    "try:\n",
    "    with open('data/emotion_data.json', 'r') as f:\n",
    "        manual_data = json.load(f)\n",
    "    manual_df = pd.DataFrame(manual_data)\n",
    "    print(\"Successfully loaded manual emotion data\")\n",
    "    display(manual_df.head())\n",
    "    print(\"\\nManual data shape:\", manual_df.shape)\n",
    "except Exception as e:\n",
    "    print(f\"Error loading manual data: {e}\")\n",
    "    manual_df = pd.DataFrame()\n"
   ]
  },
  {
   "cell_type": "code",
   "execution_count": null,
   "metadata": {},
   "outputs": [],
   "source": []
  }
 ],
 "metadata": {
  "kernelspec": {
   "display_name": ".venv",
   "language": "python",
   "name": "python3"
  },
  "language_info": {
   "codemirror_mode": {
    "name": "ipython",
    "version": 3
   },
   "file_extension": ".py",
   "mimetype": "text/x-python",
   "name": "python",
   "nbconvert_exporter": "python",
   "pygments_lexer": "ipython3",
   "version": "3.12.4"
  }
 },
 "nbformat": 4,
 "nbformat_minor": 2
}
